{
 "cells": [
  {
   "cell_type": "code",
   "execution_count": 1,
   "metadata": {},
   "outputs": [],
   "source": [
    "import pandas as pd\n",
    "import json\n",
    "import os"
   ]
  },
  {
   "cell_type": "code",
   "execution_count": 31,
   "metadata": {},
   "outputs": [
    {
     "data": {
      "text/html": [
       "<div>\n",
       "<style scoped>\n",
       "    .dataframe tbody tr th:only-of-type {\n",
       "        vertical-align: middle;\n",
       "    }\n",
       "\n",
       "    .dataframe tbody tr th {\n",
       "        vertical-align: top;\n",
       "    }\n",
       "\n",
       "    .dataframe thead th {\n",
       "        text-align: right;\n",
       "    }\n",
       "</style>\n",
       "<table border=\"1\" class=\"dataframe\">\n",
       "  <thead>\n",
       "    <tr style=\"text-align: right;\">\n",
       "      <th></th>\n",
       "      <th>session_id</th>\n",
       "      <th>client_id</th>\n",
       "      <th>visit_date</th>\n",
       "      <th>visit_time</th>\n",
       "      <th>visit_number</th>\n",
       "      <th>utm_source</th>\n",
       "      <th>utm_medium</th>\n",
       "      <th>utm_campaign</th>\n",
       "      <th>utm_adcontent</th>\n",
       "      <th>utm_keyword</th>\n",
       "      <th>device_category</th>\n",
       "      <th>device_os</th>\n",
       "      <th>device_brand</th>\n",
       "      <th>device_model</th>\n",
       "      <th>device_screen_resolution</th>\n",
       "      <th>device_browser</th>\n",
       "      <th>geo_country</th>\n",
       "      <th>geo_city</th>\n",
       "    </tr>\n",
       "  </thead>\n",
       "  <tbody>\n",
       "    <tr>\n",
       "      <th>0</th>\n",
       "      <td>9055432108483400094.1641140638.1641140638</td>\n",
       "      <td>2108382086.1641140638</td>\n",
       "      <td>2022-01-02</td>\n",
       "      <td>19:23:58</td>\n",
       "      <td>1</td>\n",
       "      <td>hqpYkWpkYefgduliaKcm</td>\n",
       "      <td>cpc</td>\n",
       "      <td>NaN</td>\n",
       "      <td>vmpjxytvOioeqSlwNoAl</td>\n",
       "      <td>BhUZBJUdmsWLEISSdxTa</td>\n",
       "      <td>mobile</td>\n",
       "      <td>Android</td>\n",
       "      <td>Xiaomi</td>\n",
       "      <td>NaN</td>\n",
       "      <td>393x851</td>\n",
       "      <td>Android Webview</td>\n",
       "      <td>Russia</td>\n",
       "      <td>Moscow</td>\n",
       "    </tr>\n",
       "    <tr>\n",
       "      <th>1</th>\n",
       "      <td>9056424722670117391.1641112635.1641112635</td>\n",
       "      <td>2108613197.1641112079</td>\n",
       "      <td>2022-01-02</td>\n",
       "      <td>11:37:15</td>\n",
       "      <td>1</td>\n",
       "      <td>kVGXyneGKJVfHKWnWbEr</td>\n",
       "      <td>(none)</td>\n",
       "      <td>XOywtQLVBIVeKsBULENc</td>\n",
       "      <td>vmpjxytvOioeqSlwNoAl</td>\n",
       "      <td>BhUZBJUdmsWLEISSdxTa</td>\n",
       "      <td>mobile</td>\n",
       "      <td>Android</td>\n",
       "      <td>Lenovo</td>\n",
       "      <td>NaN</td>\n",
       "      <td>412x915</td>\n",
       "      <td>Chrome</td>\n",
       "      <td>Russia</td>\n",
       "      <td>Kazan</td>\n",
       "    </tr>\n",
       "    <tr>\n",
       "      <th>2</th>\n",
       "      <td>9058564964994900640.1641153986.1641153986</td>\n",
       "      <td>2109111511.1632756384</td>\n",
       "      <td>2022-01-02</td>\n",
       "      <td>23:06:26</td>\n",
       "      <td>2</td>\n",
       "      <td>hqpYkWpkYefgduliaKcm</td>\n",
       "      <td>cpc</td>\n",
       "      <td>NaN</td>\n",
       "      <td>vmpjxytvOioeqSlwNoAl</td>\n",
       "      <td>BhUZBJUdmsWLEISSdxTa</td>\n",
       "      <td>mobile</td>\n",
       "      <td>Android</td>\n",
       "      <td>Samsung</td>\n",
       "      <td>NaN</td>\n",
       "      <td>360x740</td>\n",
       "      <td>Android Webview</td>\n",
       "      <td>Russia</td>\n",
       "      <td>Saint Petersburg</td>\n",
       "    </tr>\n",
       "    <tr>\n",
       "      <th>3</th>\n",
       "      <td>9059738831104859637.1641111028.1641111028</td>\n",
       "      <td>2109384823.1641111029</td>\n",
       "      <td>2022-01-02</td>\n",
       "      <td>11:10:28</td>\n",
       "      <td>1</td>\n",
       "      <td>sORFTBvqnhWCekwPSNpw</td>\n",
       "      <td>banner</td>\n",
       "      <td>EtfLrwPWorOxUtcoUEYQ</td>\n",
       "      <td>XuLWchPRHivTUPkStLhY</td>\n",
       "      <td>BhUZBJUdmsWLEISSdxTa</td>\n",
       "      <td>mobile</td>\n",
       "      <td>iOS</td>\n",
       "      <td>Apple</td>\n",
       "      <td>NaN</td>\n",
       "      <td>414x896</td>\n",
       "      <td>Safari</td>\n",
       "      <td>Russia</td>\n",
       "      <td>Moscow</td>\n",
       "    </tr>\n",
       "    <tr>\n",
       "      <th>4</th>\n",
       "      <td>9060515112083893459.1641131219.1641131219</td>\n",
       "      <td>2109565565.1641131219</td>\n",
       "      <td>2022-01-02</td>\n",
       "      <td>16:46:59</td>\n",
       "      <td>1</td>\n",
       "      <td>CVoLfHiSYnQlpfwfKDvK</td>\n",
       "      <td>cpc</td>\n",
       "      <td>sORFTBvqnhWCekwPSNpw</td>\n",
       "      <td>NaN</td>\n",
       "      <td>GdRWiswMRFnUQdWCHqxX</td>\n",
       "      <td>mobile</td>\n",
       "      <td>iOS</td>\n",
       "      <td>Apple</td>\n",
       "      <td>NaN</td>\n",
       "      <td>390x844</td>\n",
       "      <td>Safari</td>\n",
       "      <td>Russia</td>\n",
       "      <td>Moscow</td>\n",
       "    </tr>\n",
       "  </tbody>\n",
       "</table>\n",
       "</div>"
      ],
      "text/plain": [
       "                                  session_id              client_id  \\\n",
       "0  9055432108483400094.1641140638.1641140638  2108382086.1641140638   \n",
       "1  9056424722670117391.1641112635.1641112635  2108613197.1641112079   \n",
       "2  9058564964994900640.1641153986.1641153986  2109111511.1632756384   \n",
       "3  9059738831104859637.1641111028.1641111028  2109384823.1641111029   \n",
       "4  9060515112083893459.1641131219.1641131219  2109565565.1641131219   \n",
       "\n",
       "   visit_date visit_time  visit_number            utm_source utm_medium  \\\n",
       "0  2022-01-02   19:23:58             1  hqpYkWpkYefgduliaKcm        cpc   \n",
       "1  2022-01-02   11:37:15             1  kVGXyneGKJVfHKWnWbEr     (none)   \n",
       "2  2022-01-02   23:06:26             2  hqpYkWpkYefgduliaKcm        cpc   \n",
       "3  2022-01-02   11:10:28             1  sORFTBvqnhWCekwPSNpw     banner   \n",
       "4  2022-01-02   16:46:59             1  CVoLfHiSYnQlpfwfKDvK        cpc   \n",
       "\n",
       "           utm_campaign         utm_adcontent           utm_keyword  \\\n",
       "0                   NaN  vmpjxytvOioeqSlwNoAl  BhUZBJUdmsWLEISSdxTa   \n",
       "1  XOywtQLVBIVeKsBULENc  vmpjxytvOioeqSlwNoAl  BhUZBJUdmsWLEISSdxTa   \n",
       "2                   NaN  vmpjxytvOioeqSlwNoAl  BhUZBJUdmsWLEISSdxTa   \n",
       "3  EtfLrwPWorOxUtcoUEYQ  XuLWchPRHivTUPkStLhY  BhUZBJUdmsWLEISSdxTa   \n",
       "4  sORFTBvqnhWCekwPSNpw                   NaN  GdRWiswMRFnUQdWCHqxX   \n",
       "\n",
       "  device_category device_os device_brand  device_model  \\\n",
       "0          mobile   Android       Xiaomi           NaN   \n",
       "1          mobile   Android       Lenovo           NaN   \n",
       "2          mobile   Android      Samsung           NaN   \n",
       "3          mobile       iOS        Apple           NaN   \n",
       "4          mobile       iOS        Apple           NaN   \n",
       "\n",
       "  device_screen_resolution   device_browser geo_country          geo_city  \n",
       "0                  393x851  Android Webview      Russia            Moscow  \n",
       "1                  412x915           Chrome      Russia             Kazan  \n",
       "2                  360x740  Android Webview      Russia  Saint Petersburg  \n",
       "3                  414x896           Safari      Russia            Moscow  \n",
       "4                  390x844           Safari      Russia            Moscow  "
      ]
     },
     "execution_count": 31,
     "metadata": {},
     "output_type": "execute_result"
    }
   ],
   "source": [
    "with open ('data/jsons/ga_sessions_new_2022-01-01.json', 'rb') as file:\n",
    "\tdata = json.load(file)\n",
    "df = pd.DataFrame(list(data.values())[0])\n",
    "df.head()"
   ]
  },
  {
   "cell_type": "code",
   "execution_count": 29,
   "metadata": {},
   "outputs": [
    {
     "data": {
      "text/html": [
       "<div>\n",
       "<style scoped>\n",
       "    .dataframe tbody tr th:only-of-type {\n",
       "        vertical-align: middle;\n",
       "    }\n",
       "\n",
       "    .dataframe tbody tr th {\n",
       "        vertical-align: top;\n",
       "    }\n",
       "\n",
       "    .dataframe thead th {\n",
       "        text-align: right;\n",
       "    }\n",
       "</style>\n",
       "<table border=\"1\" class=\"dataframe\">\n",
       "  <thead>\n",
       "    <tr style=\"text-align: right;\">\n",
       "      <th></th>\n",
       "      <th>session_id</th>\n",
       "      <th>client_id</th>\n",
       "      <th>visit_date</th>\n",
       "      <th>visit_time</th>\n",
       "      <th>visit_number</th>\n",
       "      <th>utm_source</th>\n",
       "      <th>utm_medium</th>\n",
       "      <th>utm_campaign</th>\n",
       "      <th>utm_adcontent</th>\n",
       "      <th>utm_keyword</th>\n",
       "      <th>device_category</th>\n",
       "      <th>device_os</th>\n",
       "      <th>device_brand</th>\n",
       "      <th>device_model</th>\n",
       "      <th>device_screen_resolution</th>\n",
       "      <th>device_browser</th>\n",
       "      <th>geo_country</th>\n",
       "      <th>geo_city</th>\n",
       "    </tr>\n",
       "  </thead>\n",
       "  <tbody>\n",
       "    <tr>\n",
       "      <th>0</th>\n",
       "      <td>9057143644361012741.1641231879.1641231879</td>\n",
       "      <td>2108780584.1641231877</td>\n",
       "      <td>2022-01-03</td>\n",
       "      <td>20:44:39</td>\n",
       "      <td>1</td>\n",
       "      <td>sORFTBvqnhWCekwPSNpw</td>\n",
       "      <td>banner</td>\n",
       "      <td>EtfLrwPWorOxUtcoUEYQ</td>\n",
       "      <td>XuLWchPRHivTUPkStLhY</td>\n",
       "      <td>BhUZBJUdmsWLEISSdxTa</td>\n",
       "      <td>mobile</td>\n",
       "      <td>Android</td>\n",
       "      <td>Samsung</td>\n",
       "      <td>NaN</td>\n",
       "      <td>339x753</td>\n",
       "      <td>Chrome</td>\n",
       "      <td>Russia</td>\n",
       "      <td>Saint Petersburg</td>\n",
       "    </tr>\n",
       "    <tr>\n",
       "      <th>1</th>\n",
       "      <td>9057905906566764206.1641223854.1641223854</td>\n",
       "      <td>2108958062.1641223854</td>\n",
       "      <td>2022-01-03</td>\n",
       "      <td>18:30:54</td>\n",
       "      <td>1</td>\n",
       "      <td>sORFTBvqnhWCekwPSNpw</td>\n",
       "      <td>banner</td>\n",
       "      <td>EtfLrwPWorOxUtcoUEYQ</td>\n",
       "      <td>XuLWchPRHivTUPkStLhY</td>\n",
       "      <td>BhUZBJUdmsWLEISSdxTa</td>\n",
       "      <td>mobile</td>\n",
       "      <td>iOS</td>\n",
       "      <td>Apple</td>\n",
       "      <td>NaN</td>\n",
       "      <td>428x926</td>\n",
       "      <td>Safari</td>\n",
       "      <td>Russia</td>\n",
       "      <td>Moscow</td>\n",
       "    </tr>\n",
       "    <tr>\n",
       "      <th>2</th>\n",
       "      <td>9058132461796596726.1641159670.1641159670</td>\n",
       "      <td>2109010811.1641159670</td>\n",
       "      <td>2022-01-03</td>\n",
       "      <td>00:41:10</td>\n",
       "      <td>1</td>\n",
       "      <td>CVoLfHiSYnQlpfwfKDvK</td>\n",
       "      <td>cpc</td>\n",
       "      <td>sORFTBvqnhWCekwPSNpw</td>\n",
       "      <td>NaN</td>\n",
       "      <td>GdRWiswMRFnUQdWCHqxX</td>\n",
       "      <td>mobile</td>\n",
       "      <td>Android</td>\n",
       "      <td>Samsung</td>\n",
       "      <td>NaN</td>\n",
       "      <td>412x915</td>\n",
       "      <td>Chrome</td>\n",
       "      <td>Russia</td>\n",
       "      <td>Klimovsk</td>\n",
       "    </tr>\n",
       "    <tr>\n",
       "      <th>3</th>\n",
       "      <td>906013143595178274.1641240865.1641240865</td>\n",
       "      <td>210947623.1641240866</td>\n",
       "      <td>2022-01-03</td>\n",
       "      <td>23:14:25</td>\n",
       "      <td>1</td>\n",
       "      <td>hqpYkWpkYefgduliaKcm</td>\n",
       "      <td>cpa</td>\n",
       "      <td>ZSetXyxpNBNtqtGpTAqT</td>\n",
       "      <td>NaN</td>\n",
       "      <td>NaN</td>\n",
       "      <td>mobile</td>\n",
       "      <td>iOS</td>\n",
       "      <td>Apple</td>\n",
       "      <td>NaN</td>\n",
       "      <td>375x812</td>\n",
       "      <td>Safari</td>\n",
       "      <td>Russia</td>\n",
       "      <td>Kazan</td>\n",
       "    </tr>\n",
       "    <tr>\n",
       "      <th>4</th>\n",
       "      <td>9060630852861806932.1641197034.1641197034</td>\n",
       "      <td>2109592513.1640352084</td>\n",
       "      <td>2022-01-03</td>\n",
       "      <td>11:03:54</td>\n",
       "      <td>2</td>\n",
       "      <td>sORFTBvqnhWCekwPSNpw</td>\n",
       "      <td>banner</td>\n",
       "      <td>EtfLrwPWorOxUtcoUEYQ</td>\n",
       "      <td>XuLWchPRHivTUPkStLhY</td>\n",
       "      <td>BhUZBJUdmsWLEISSdxTa</td>\n",
       "      <td>mobile</td>\n",
       "      <td>Android</td>\n",
       "      <td>Samsung</td>\n",
       "      <td>NaN</td>\n",
       "      <td>412x915</td>\n",
       "      <td>Samsung Internet</td>\n",
       "      <td>Russia</td>\n",
       "      <td>Vidnoye</td>\n",
       "    </tr>\n",
       "  </tbody>\n",
       "</table>\n",
       "</div>"
      ],
      "text/plain": [
       "                                  session_id              client_id  \\\n",
       "0  9057143644361012741.1641231879.1641231879  2108780584.1641231877   \n",
       "1  9057905906566764206.1641223854.1641223854  2108958062.1641223854   \n",
       "2  9058132461796596726.1641159670.1641159670  2109010811.1641159670   \n",
       "3   906013143595178274.1641240865.1641240865   210947623.1641240866   \n",
       "4  9060630852861806932.1641197034.1641197034  2109592513.1640352084   \n",
       "\n",
       "   visit_date visit_time  visit_number            utm_source utm_medium  \\\n",
       "0  2022-01-03   20:44:39             1  sORFTBvqnhWCekwPSNpw     banner   \n",
       "1  2022-01-03   18:30:54             1  sORFTBvqnhWCekwPSNpw     banner   \n",
       "2  2022-01-03   00:41:10             1  CVoLfHiSYnQlpfwfKDvK        cpc   \n",
       "3  2022-01-03   23:14:25             1  hqpYkWpkYefgduliaKcm        cpa   \n",
       "4  2022-01-03   11:03:54             2  sORFTBvqnhWCekwPSNpw     banner   \n",
       "\n",
       "           utm_campaign         utm_adcontent           utm_keyword  \\\n",
       "0  EtfLrwPWorOxUtcoUEYQ  XuLWchPRHivTUPkStLhY  BhUZBJUdmsWLEISSdxTa   \n",
       "1  EtfLrwPWorOxUtcoUEYQ  XuLWchPRHivTUPkStLhY  BhUZBJUdmsWLEISSdxTa   \n",
       "2  sORFTBvqnhWCekwPSNpw                   NaN  GdRWiswMRFnUQdWCHqxX   \n",
       "3  ZSetXyxpNBNtqtGpTAqT                   NaN                   NaN   \n",
       "4  EtfLrwPWorOxUtcoUEYQ  XuLWchPRHivTUPkStLhY  BhUZBJUdmsWLEISSdxTa   \n",
       "\n",
       "  device_category device_os device_brand device_model  \\\n",
       "0          mobile   Android      Samsung          NaN   \n",
       "1          mobile       iOS        Apple          NaN   \n",
       "2          mobile   Android      Samsung          NaN   \n",
       "3          mobile       iOS        Apple          NaN   \n",
       "4          mobile   Android      Samsung          NaN   \n",
       "\n",
       "  device_screen_resolution    device_browser geo_country          geo_city  \n",
       "0                  339x753            Chrome      Russia  Saint Petersburg  \n",
       "1                  428x926            Safari      Russia            Moscow  \n",
       "2                  412x915            Chrome      Russia          Klimovsk  \n",
       "3                  375x812            Safari      Russia             Kazan  \n",
       "4                  412x915  Samsung Internet      Russia           Vidnoye  "
      ]
     },
     "execution_count": 29,
     "metadata": {},
     "output_type": "execute_result"
    }
   ],
   "source": [
    "h1 = []\n",
    "for filename in os.listdir('data/jsons/'):\n",
    "\tif 'sessions' in filename:\n",
    "\t\twith open(f'data/jsons/{filename}', 'r') as f:\n",
    "\t\t\tdata = json.loads(f.read())\n",
    "\t\t\th1 += list(data.values())[0]\n",
    "\n",
    "df = pd.DataFrame(h1)\n",
    "df.head()"
   ]
  },
  {
   "cell_type": "code",
   "execution_count": 3,
   "metadata": {},
   "outputs": [
    {
     "name": "stdout",
     "output_type": "stream",
     "text": [
      "Empty DataFrame\n",
      "Columns: []\n",
      "Index: []\n",
      "{'2022-01-01': []}\n"
     ]
    }
   ],
   "source": [
    "with open ('data/jsons/ga_hits_new_2022-01-01.json', 'rb') as file:\n",
    "\tdata = json.load(file)\n",
    "\tdf = pd.DataFrame(list(data.values())[0])\n",
    "print(df.head())\n",
    "print(data)"
   ]
  },
  {
   "cell_type": "code",
   "execution_count": 22,
   "metadata": {},
   "outputs": [
    {
     "data": {
      "text/plain": [
       "'.'"
      ]
     },
     "execution_count": 22,
     "metadata": {},
     "output_type": "execute_result"
    }
   ],
   "source": [
    "path = os.environ.get('PROJECT_PATH', '.')\n",
    "path"
   ]
  },
  {
   "cell_type": "code",
   "execution_count": 17,
   "metadata": {},
   "outputs": [],
   "source": [
    "def file_date(x):\n",
    "\treturn x[-15:]\n"
   ]
  },
  {
   "cell_type": "code",
   "execution_count": 14,
   "metadata": {},
   "outputs": [
    {
     "data": {
      "text/plain": [
       "['ga_sessions_new_2022-01-03.json',\n",
       " 'ga_sessions_new_2022-01-02.json',\n",
       " 'ga_sessions_new_2022-01-04.json',\n",
       " 'ga_sessions_new_2022-01-05.json',\n",
       " 'ga_sessions_new_2022-01-01.json']"
      ]
     },
     "execution_count": 14,
     "metadata": {},
     "output_type": "execute_result"
    }
   ],
   "source": [
    "list_of_sessions_files = [i for  i in os.listdir('data/jsons') if 'sessions' in i]\n",
    "list_of_sessions_files"
   ]
  },
  {
   "cell_type": "code",
   "execution_count": 15,
   "metadata": {},
   "outputs": [
    {
     "data": {
      "text/plain": [
       "['ga_hits_new_2022-01-02.json',\n",
       " 'ga_hits_new_2022-01-05.json',\n",
       " 'ga_hits_new_2022-01-03.json',\n",
       " 'ga_hits_new_2022-01-04.json',\n",
       " 'ga_hits_new_2022-01-01.json']"
      ]
     },
     "execution_count": 15,
     "metadata": {},
     "output_type": "execute_result"
    }
   ],
   "source": [
    "list_of_hits_files = [i for  i in os.listdir('data/jsons') if 'hits' in i]\n",
    "list_of_hits_files"
   ]
  },
  {
   "cell_type": "code",
   "execution_count": 18,
   "metadata": {},
   "outputs": [
    {
     "name": "stdout",
     "output_type": "stream",
     "text": [
      "2022-01-05.json\n"
     ]
    }
   ],
   "source": [
    "print(file_date(list_of_hits_files[1]))"
   ]
  },
  {
   "cell_type": "code",
   "execution_count": 20,
   "metadata": {},
   "outputs": [
    {
     "data": {
      "text/plain": [
       "'ga_hits_new_2022-01-01.json'"
      ]
     },
     "execution_count": 20,
     "metadata": {},
     "output_type": "execute_result"
    }
   ],
   "source": [
    "first_hits_file = sorted(list_of_hits_files, key=file_date)[0]\n",
    "first_hits_file"
   ]
  },
  {
   "cell_type": "code",
   "execution_count": 23,
   "metadata": {},
   "outputs": [],
   "source": [
    "import pandas as pd\n",
    "import os\n",
    "import transform_hits\n",
    "import transform_sessions"
   ]
  },
  {
   "cell_type": "code",
   "execution_count": 27,
   "metadata": {},
   "outputs": [
    {
     "name": "stdout",
     "output_type": "stream",
     "text": [
      "(7277, 13)\n",
      "(73499, 10)\n"
     ]
    }
   ],
   "source": [
    "path = os.environ.get('PROJECT_PATH', '.')\n",
    "jsons_path = 'data/jsons'\n",
    "\n",
    "def file_date(x):\n",
    "\treturn x[-15:]\n",
    "\n",
    "list_of_sessions_files = [i for  i in os.listdir(jsons_path) if 'sessions' in i]\n",
    "list_of_hits_files = [i for  i in os.listdir(jsons_path) if 'hits' in i]\n",
    "\n",
    "first_sessions_file = f'{jsons_path}/{sorted(list_of_sessions_files, key=file_date)[1]}'\n",
    "same_hits_file = f'{jsons_path}/{[i for i in list_of_hits_files if first_sessions_file[-15:] in i][0]}'\n",
    "\n",
    "sessions_df = transform_sessions.pipeline(first_sessions_file)\n",
    "hits_df = transform_hits.pipeline(same_hits_file)\n",
    "\n",
    "print(sessions_df.shape)\n",
    "print(hits_df.shape)"
   ]
  },
  {
   "cell_type": "code",
   "execution_count": 29,
   "metadata": {},
   "outputs": [
    {
     "data": {
      "text/plain": [
       "(73499, 10)"
      ]
     },
     "execution_count": 29,
     "metadata": {},
     "output_type": "execute_result"
    }
   ],
   "source": [
    "df = hits_df[hits_df.set_index(['session_id1','session_id2', 'session_id3']).index.isin(sessions_df.set_index(['session_id1','session_id2', 'session_id3']).index)]\n",
    "df.shape"
   ]
  },
  {
   "cell_type": "code",
   "execution_count": 30,
   "metadata": {},
   "outputs": [],
   "source": [
    "list_of_sessions_files = [i for  i in os.listdir(jsons_path) if 'sessions' in i]\n",
    "list_of_hits_files = [i for  i in os.listdir(jsons_path) if 'hits' in i]"
   ]
  },
  {
   "cell_type": "code",
   "execution_count": 40,
   "metadata": {},
   "outputs": [
    {
     "name": "stdout",
     "output_type": "stream",
     "text": [
      "2022-01-03.json\n",
      " SESSION df = (8569, 13)\n",
      " HITS df = (81243, 10)\n",
      " INNER HITS df = (81243, 10)\n",
      "=============================================\n",
      "2022-01-02.json\n",
      " SESSION df = (7277, 13)\n",
      " HITS df = (73499, 10)\n",
      " INNER HITS df = (73499, 10)\n",
      "=============================================\n",
      "2022-01-04.json\n",
      " SESSION df = (9383, 13)\n",
      " HITS df = (91576, 10)\n",
      " INNER HITS df = (91562, 10)\n",
      "=============================================\n",
      "2022-01-05.json\n",
      " SESSION df = (9493, 13)\n",
      " HITS df = (92170, 10)\n",
      " INNER HITS df = (92170, 10)\n",
      "=============================================\n",
      "2022-01-01.json\n",
      " SESSION df = (6, 13)\n",
      " HITS df = (0, 0)\n"
     ]
    }
   ],
   "source": [
    "for session in list_of_sessions_files:\n",
    "\tfirst_sessions_file = f'{jsons_path}/{session}'\n",
    "\tsame_hits_file = f'{jsons_path}/{[i for i in list_of_hits_files if session[-15:] in i][0]}'\n",
    "\tsessions_df = transform_sessions.pipeline(first_sessions_file)\n",
    "\thits_df = transform_hits.pipeline(same_hits_file)\n",
    "\tprint(session[-15:])\n",
    "\tprint(f' SESSION df = {sessions_df.shape}')\n",
    "\tprint(f' HITS df = {hits_df.shape}')\n",
    "\tif not hits_df.empty:\n",
    "\t\tdf = hits_df[hits_df.set_index(['session_id1','session_id2', 'session_id3']).index.isin(sessions_df.set_index(['session_id1','session_id2', 'session_id3']).index)]\n",
    "\t\tprint(f' INNER HITS df = {df.shape}')\n",
    "\t\tprint('='*45)"
   ]
  },
  {
   "cell_type": "code",
   "execution_count": 37,
   "metadata": {},
   "outputs": [
    {
     "name": "stdout",
     "output_type": "stream",
     "text": [
      "2022-01-03.json\n",
      " SESSION df = (7277, 13)\n",
      " HITS df = (81243, 10)\n",
      " INNER HITS df = (7277, 20)\n",
      "=============================================\n",
      "2022-01-02.json\n",
      " SESSION df = (7277, 13)\n",
      " HITS df = (73499, 10)\n",
      " INNER HITS df = (7277, 20)\n",
      "=============================================\n",
      "2022-01-04.json\n",
      " SESSION df = (7277, 13)\n",
      " HITS df = (91576, 10)\n",
      " INNER HITS df = (7277, 20)\n",
      "=============================================\n",
      "2022-01-05.json\n",
      " SESSION df = (7277, 13)\n",
      " HITS df = (92170, 10)\n",
      " INNER HITS df = (7277, 20)\n",
      "=============================================\n",
      "2022-01-01.json\n",
      " SESSION df = (7277, 13)\n",
      " HITS df = (0, 0)\n"
     ]
    }
   ],
   "source": [
    "for session in list_of_sessions_files:\n",
    "\tsame_hits_file = f'{jsons_path}/{[i for i in list_of_hits_files if session[-15:] in i][0]}'\n",
    "\tsessions_df = transform_sessions.pipeline(first_sessions_file)\n",
    "\thits_df = transform_hits.pipeline(same_hits_file)\n",
    "\n",
    "\tprint(session[-15:])\n",
    "\tprint(f' SESSION df = {sessions_df.shape}')\n",
    "\tprint(f' HITS df = {hits_df.shape}')\n",
    "\tif not hits_df.empty:\n",
    "\t\tkeys = lambda row: (row.session_id1, row.session_id2, row.session_id3)\n",
    "\t\thits_df[hits_df.apply(keys, axis=1).isin(sessions_df.apply(keys, axis=1))]\n",
    "\t\tprint(f' INNER HITS df = {df.shape}')\n",
    "\t\tprint('='*45)"
   ]
  },
  {
   "cell_type": "code",
   "execution_count": 39,
   "metadata": {},
   "outputs": [
    {
     "name": "stdout",
     "output_type": "stream",
     "text": [
      "2022-01-03.json\n",
      "ga_sessions_new_2022-01-03.json\n",
      "data/jsons/ga_hits_new_2022-01-03.json\n",
      " SESSION df = (7277, 13)\n",
      " HITS df = (81243, 10)\n",
      " INNER HITS df = (7277, 20)\n",
      "=============================================\n",
      "2022-01-02.json\n",
      "ga_sessions_new_2022-01-02.json\n",
      "data/jsons/ga_hits_new_2022-01-02.json\n",
      " SESSION df = (7277, 13)\n",
      " HITS df = (73499, 10)\n",
      " INNER HITS df = (73765, 20)\n",
      "=============================================\n",
      "2022-01-04.json\n",
      "ga_sessions_new_2022-01-04.json\n",
      "data/jsons/ga_hits_new_2022-01-04.json\n",
      " SESSION df = (7277, 13)\n",
      " HITS df = (91576, 10)\n",
      " INNER HITS df = (7277, 20)\n",
      "=============================================\n",
      "2022-01-05.json\n",
      "ga_sessions_new_2022-01-05.json\n",
      "data/jsons/ga_hits_new_2022-01-05.json\n",
      " SESSION df = (7277, 13)\n",
      " HITS df = (92170, 10)\n",
      " INNER HITS df = (7277, 20)\n",
      "=============================================\n",
      "2022-01-01.json\n",
      "ga_sessions_new_2022-01-01.json\n",
      "data/jsons/ga_hits_new_2022-01-01.json\n",
      " SESSION df = (7277, 13)\n",
      " HITS df = (0, 0)\n"
     ]
    }
   ],
   "source": [
    "for session in list_of_sessions_files:\n",
    "\tsame_hits_file = f'{jsons_path}/{[i for i in list_of_hits_files if session[-15:] in i][0]}'\n",
    "\tsessions_df = transform_sessions.pipeline(first_sessions_file)\n",
    "\thits_df = transform_hits.pipeline(same_hits_file)\n",
    "\n",
    "\tprint(session[-15:])\n",
    "\tprint(session, same_hits_file, sep='\\n')\n",
    "\tprint(f' SESSION df = {sessions_df.shape}')\n",
    "\tprint(f' HITS df = {hits_df.shape}')\n",
    "\tif not hits_df.empty:\n",
    "\t\tdf = hits_df.join(sessions_df.set_index(['session_id1','session_id2', 'session_id3']), on = ['session_id1','session_id2', 'session_id3'], how='right')\n",
    "\t\tprint(f' INNER HITS df = {df.shape}')\n",
    "\t\tprint('='*45)"
   ]
  },
  {
   "cell_type": "code",
   "execution_count": null,
   "metadata": {},
   "outputs": [],
   "source": []
  }
 ],
 "metadata": {
  "kernelspec": {
   "display_name": "Python 3.10.4 ('.venv_diplom': venv)",
   "language": "python",
   "name": "python3"
  },
  "language_info": {
   "codemirror_mode": {
    "name": "ipython",
    "version": 3
   },
   "file_extension": ".py",
   "mimetype": "text/x-python",
   "name": "python",
   "nbconvert_exporter": "python",
   "pygments_lexer": "ipython3",
   "version": "3.10.6"
  },
  "orig_nbformat": 4,
  "vscode": {
   "interpreter": {
    "hash": "8603b8c29b7748bc3c00c1ad09b8f51e6ffc12199f38e8a728e893827b542152"
   }
  }
 },
 "nbformat": 4,
 "nbformat_minor": 2
}
