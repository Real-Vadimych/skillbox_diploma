{
 "cells": [
  {
   "cell_type": "code",
   "execution_count": 1,
   "metadata": {},
   "outputs": [],
   "source": [
    "import pandas as pd"
   ]
  },
  {
   "cell_type": "code",
   "execution_count": 3,
   "metadata": {},
   "outputs": [
    {
     "name": "stdout",
     "output_type": "stream",
     "text": [
      "hit_date -> 10\n",
      "hit_number -> 3\n",
      "hit_type -> 5\n",
      "event_category -> 29\n",
      "event_action -> 40\n",
      "car_manufacturer -> 13\n",
      "car_model -> 18\n",
      "session_id1 -> 19\n",
      "session_id2 -> 10\n",
      "session_id3 -> 10\n"
     ]
    }
   ],
   "source": [
    "df = pd.read_pickle('data/ga_hits-prep.pkl')\n",
    "for column in df:\n",
    "    print(column,\"->\", df[column].astype(str).str.len().max())"
   ]
  },
  {
   "cell_type": "code",
   "execution_count": 4,
   "metadata": {},
   "outputs": [
    {
     "data": {
      "text/html": [
       "<div>\n",
       "<style scoped>\n",
       "    .dataframe tbody tr th:only-of-type {\n",
       "        vertical-align: middle;\n",
       "    }\n",
       "\n",
       "    .dataframe tbody tr th {\n",
       "        vertical-align: top;\n",
       "    }\n",
       "\n",
       "    .dataframe thead th {\n",
       "        text-align: right;\n",
       "    }\n",
       "</style>\n",
       "<table border=\"1\" class=\"dataframe\">\n",
       "  <thead>\n",
       "    <tr style=\"text-align: right;\">\n",
       "      <th></th>\n",
       "      <th>hit_date</th>\n",
       "      <th>hit_number</th>\n",
       "      <th>hit_type</th>\n",
       "      <th>event_category</th>\n",
       "      <th>event_action</th>\n",
       "      <th>car_manufacturer</th>\n",
       "      <th>car_model</th>\n",
       "      <th>session_id1</th>\n",
       "      <th>session_id2</th>\n",
       "      <th>session_id3</th>\n",
       "    </tr>\n",
       "  </thead>\n",
       "  <tbody>\n",
       "    <tr>\n",
       "      <th>0</th>\n",
       "      <td>2021-12-23</td>\n",
       "      <td>30</td>\n",
       "      <td>event</td>\n",
       "      <td>quiz</td>\n",
       "      <td>quiz_show</td>\n",
       "      <td></td>\n",
       "      <td></td>\n",
       "      <td>5639623078712724064</td>\n",
       "      <td>1640254056</td>\n",
       "      <td>1640254056</td>\n",
       "    </tr>\n",
       "    <tr>\n",
       "      <th>1</th>\n",
       "      <td>2021-12-23</td>\n",
       "      <td>41</td>\n",
       "      <td>event</td>\n",
       "      <td>quiz</td>\n",
       "      <td>quiz_show</td>\n",
       "      <td></td>\n",
       "      <td></td>\n",
       "      <td>7750352294969115059</td>\n",
       "      <td>1640271109</td>\n",
       "      <td>1640271109</td>\n",
       "    </tr>\n",
       "    <tr>\n",
       "      <th>2</th>\n",
       "      <td>2021-12-23</td>\n",
       "      <td>49</td>\n",
       "      <td>event</td>\n",
       "      <td>quiz</td>\n",
       "      <td>quiz_show</td>\n",
       "      <td>volkswagen</td>\n",
       "      <td>polo</td>\n",
       "      <td>885342191847998240</td>\n",
       "      <td>1640235807</td>\n",
       "      <td>1640235807</td>\n",
       "    </tr>\n",
       "    <tr>\n",
       "      <th>3</th>\n",
       "      <td>2021-12-23</td>\n",
       "      <td>46</td>\n",
       "      <td>event</td>\n",
       "      <td>quiz</td>\n",
       "      <td>quiz_show</td>\n",
       "      <td></td>\n",
       "      <td></td>\n",
       "      <td>142526202120934167</td>\n",
       "      <td>1640211014</td>\n",
       "      <td>1640211014</td>\n",
       "    </tr>\n",
       "    <tr>\n",
       "      <th>4</th>\n",
       "      <td>2021-12-23</td>\n",
       "      <td>79</td>\n",
       "      <td>event</td>\n",
       "      <td>quiz</td>\n",
       "      <td>quiz_show</td>\n",
       "      <td>mercedes-benz</td>\n",
       "      <td>cla-klasse</td>\n",
       "      <td>3450086108837475701</td>\n",
       "      <td>1640265078</td>\n",
       "      <td>1640265078</td>\n",
       "    </tr>\n",
       "  </tbody>\n",
       "</table>\n",
       "</div>"
      ],
      "text/plain": [
       "    hit_date  hit_number hit_type event_category event_action  \\\n",
       "0 2021-12-23          30    event           quiz    quiz_show   \n",
       "1 2021-12-23          41    event           quiz    quiz_show   \n",
       "2 2021-12-23          49    event           quiz    quiz_show   \n",
       "3 2021-12-23          46    event           quiz    quiz_show   \n",
       "4 2021-12-23          79    event           quiz    quiz_show   \n",
       "\n",
       "  car_manufacturer   car_model          session_id1  session_id2  session_id3  \n",
       "0                               5639623078712724064   1640254056   1640254056  \n",
       "1                               7750352294969115059   1640271109   1640271109  \n",
       "2       volkswagen        polo   885342191847998240   1640235807   1640235807  \n",
       "3                                142526202120934167   1640211014   1640211014  \n",
       "4    mercedes-benz  cla-klasse  3450086108837475701   1640265078   1640265078  "
      ]
     },
     "execution_count": 4,
     "metadata": {},
     "output_type": "execute_result"
    }
   ],
   "source": [
    "df.head()"
   ]
  },
  {
   "cell_type": "code",
   "execution_count": null,
   "metadata": {},
   "outputs": [],
   "source": []
  }
 ],
 "metadata": {
  "kernelspec": {
   "display_name": "Python 3.10.4 ('.venv_diplom': venv)",
   "language": "python",
   "name": "python3"
  },
  "language_info": {
   "codemirror_mode": {
    "name": "ipython",
    "version": 3
   },
   "file_extension": ".py",
   "mimetype": "text/x-python",
   "name": "python",
   "nbconvert_exporter": "python",
   "pygments_lexer": "ipython3",
   "version": "3.10.4"
  },
  "orig_nbformat": 4,
  "vscode": {
   "interpreter": {
    "hash": "8603b8c29b7748bc3c00c1ad09b8f51e6ffc12199f38e8a728e893827b542152"
   }
  }
 },
 "nbformat": 4,
 "nbformat_minor": 2
}
